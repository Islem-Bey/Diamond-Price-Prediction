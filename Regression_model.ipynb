{
  "cells": [
    {
      "cell_type": "markdown",
      "source": [
        "# Import library"
      ],
      "metadata": {
        "id": "sEZzDkzQ5xxu"
      }
    },
    {
      "cell_type": "code",
      "execution_count": 466,
      "metadata": {
        "id": "gR6Ty3L6L_yf"
      },
      "outputs": [],
      "source": [
        "import numpy as np \n",
        "import pandas as pd\n",
        "import matplotlib.pylab as plt\n",
        "import seaborn as sns\n",
        "from sklearn.metrics import mean_squared_error\n",
        "from sklearn.preprocessing import OneHotEncoder\n",
        "from sklearn.preprocessing import OrdinalEncoder\n",
        "from sklearn.model_selection import train_test_split\n",
        "from sklearn.model_selection import cross_val_score\n",
        "from sklearn.ensemble import RandomForestRegressor\n",
        "from sklearn.linear_model import LinearRegression\n",
        "from sklearn.tree import DecisionTreeRegressor\n",
        "from sklearn.model_selection import GridSearchCV\n",
        "from sklearn.neighbors import KNeighborsRegressor\n",
        "from collections import Counter\n",
        "from sklearn.svm import SVR\n",
        "%matplotlib inline"
      ]
    },
    {
      "cell_type": "markdown",
      "source": [
        "# Get the Data"
      ],
      "metadata": {
        "id": "zfE6Xqgivys_"
      }
    },
    {
      "cell_type": "markdown",
      "source": [
        "## Load data"
      ],
      "metadata": {
        "id": "5qpU2tagwGpw"
      }
    },
    {
      "cell_type": "code",
      "execution_count": 467,
      "metadata": {
        "colab": {
          "base_uri": "https://localhost:8080/"
        },
        "id": "YmJ-3t9uMDnY",
        "outputId": "1ade537b-98dd-4189-8894-2fefe0680850"
      },
      "outputs": [
        {
          "output_type": "stream",
          "name": "stdout",
          "text": [
            "Drive already mounted at /content/drive; to attempt to forcibly remount, call drive.mount(\"/content/drive\", force_remount=True).\n"
          ]
        }
      ],
      "source": [
        "from google.colab import drive\n",
        "drive.mount('/content/drive')\n",
        "train_df= pd.read_csv('/content/drive/MyDrive/train.csv')\n",
        "test_df= pd.read_csv('/content/drive/MyDrive/test.csv')"
      ]
    },
    {
      "cell_type": "markdown",
      "source": [
        "# Discover and visulaize the Data"
      ],
      "metadata": {
        "id": "CcsXzuuDwVd8"
      }
    },
    {
      "cell_type": "markdown",
      "source": [
        "##Data Visualisation"
      ],
      "metadata": {
        "id": "0Cf6785PlnqX"
      }
    },
    {
      "cell_type": "code",
      "execution_count": 468,
      "metadata": {
        "colab": {
          "base_uri": "https://localhost:8080/",
          "height": 206
        },
        "id": "2Mr4gkpzMEFg",
        "outputId": "c7bd9f90-5b7b-40c3-c3b0-9499e733130d"
      },
      "outputs": [
        {
          "output_type": "execute_result",
          "data": {
            "text/plain": [
              "   Unnamed: 0  carat        cut color clarity  depth  table  price     x  \\\n",
              "0           2   0.21    Premium     E     SI1   59.8   61.0    326  3.89   \n",
              "1           4   0.29    Premium     I     VS2   62.4   58.0    334  4.20   \n",
              "2           5   0.31       Good     J     SI2   63.3   58.0    335  4.34   \n",
              "3           6   0.24  Very Good     J    VVS2   62.8   57.0    336  3.94   \n",
              "4           7   0.24  Very Good     I    VVS1   62.3   57.0    336  3.95   \n",
              "\n",
              "      y     z  \n",
              "0  3.84  2.31  \n",
              "1  4.23  2.63  \n",
              "2  4.35  2.75  \n",
              "3  3.96  2.48  \n",
              "4  3.98  2.47  "
            ],
            "text/html": [
              "\n",
              "  <div id=\"df-96bd14e1-ccae-474b-b0ba-32a1e24ce2da\">\n",
              "    <div class=\"colab-df-container\">\n",
              "      <div>\n",
              "<style scoped>\n",
              "    .dataframe tbody tr th:only-of-type {\n",
              "        vertical-align: middle;\n",
              "    }\n",
              "\n",
              "    .dataframe tbody tr th {\n",
              "        vertical-align: top;\n",
              "    }\n",
              "\n",
              "    .dataframe thead th {\n",
              "        text-align: right;\n",
              "    }\n",
              "</style>\n",
              "<table border=\"1\" class=\"dataframe\">\n",
              "  <thead>\n",
              "    <tr style=\"text-align: right;\">\n",
              "      <th></th>\n",
              "      <th>Unnamed: 0</th>\n",
              "      <th>carat</th>\n",
              "      <th>cut</th>\n",
              "      <th>color</th>\n",
              "      <th>clarity</th>\n",
              "      <th>depth</th>\n",
              "      <th>table</th>\n",
              "      <th>price</th>\n",
              "      <th>x</th>\n",
              "      <th>y</th>\n",
              "      <th>z</th>\n",
              "    </tr>\n",
              "  </thead>\n",
              "  <tbody>\n",
              "    <tr>\n",
              "      <th>0</th>\n",
              "      <td>2</td>\n",
              "      <td>0.21</td>\n",
              "      <td>Premium</td>\n",
              "      <td>E</td>\n",
              "      <td>SI1</td>\n",
              "      <td>59.8</td>\n",
              "      <td>61.0</td>\n",
              "      <td>326</td>\n",
              "      <td>3.89</td>\n",
              "      <td>3.84</td>\n",
              "      <td>2.31</td>\n",
              "    </tr>\n",
              "    <tr>\n",
              "      <th>1</th>\n",
              "      <td>4</td>\n",
              "      <td>0.29</td>\n",
              "      <td>Premium</td>\n",
              "      <td>I</td>\n",
              "      <td>VS2</td>\n",
              "      <td>62.4</td>\n",
              "      <td>58.0</td>\n",
              "      <td>334</td>\n",
              "      <td>4.20</td>\n",
              "      <td>4.23</td>\n",
              "      <td>2.63</td>\n",
              "    </tr>\n",
              "    <tr>\n",
              "      <th>2</th>\n",
              "      <td>5</td>\n",
              "      <td>0.31</td>\n",
              "      <td>Good</td>\n",
              "      <td>J</td>\n",
              "      <td>SI2</td>\n",
              "      <td>63.3</td>\n",
              "      <td>58.0</td>\n",
              "      <td>335</td>\n",
              "      <td>4.34</td>\n",
              "      <td>4.35</td>\n",
              "      <td>2.75</td>\n",
              "    </tr>\n",
              "    <tr>\n",
              "      <th>3</th>\n",
              "      <td>6</td>\n",
              "      <td>0.24</td>\n",
              "      <td>Very Good</td>\n",
              "      <td>J</td>\n",
              "      <td>VVS2</td>\n",
              "      <td>62.8</td>\n",
              "      <td>57.0</td>\n",
              "      <td>336</td>\n",
              "      <td>3.94</td>\n",
              "      <td>3.96</td>\n",
              "      <td>2.48</td>\n",
              "    </tr>\n",
              "    <tr>\n",
              "      <th>4</th>\n",
              "      <td>7</td>\n",
              "      <td>0.24</td>\n",
              "      <td>Very Good</td>\n",
              "      <td>I</td>\n",
              "      <td>VVS1</td>\n",
              "      <td>62.3</td>\n",
              "      <td>57.0</td>\n",
              "      <td>336</td>\n",
              "      <td>3.95</td>\n",
              "      <td>3.98</td>\n",
              "      <td>2.47</td>\n",
              "    </tr>\n",
              "  </tbody>\n",
              "</table>\n",
              "</div>\n",
              "      <button class=\"colab-df-convert\" onclick=\"convertToInteractive('df-96bd14e1-ccae-474b-b0ba-32a1e24ce2da')\"\n",
              "              title=\"Convert this dataframe to an interactive table.\"\n",
              "              style=\"display:none;\">\n",
              "        \n",
              "  <svg xmlns=\"http://www.w3.org/2000/svg\" height=\"24px\"viewBox=\"0 0 24 24\"\n",
              "       width=\"24px\">\n",
              "    <path d=\"M0 0h24v24H0V0z\" fill=\"none\"/>\n",
              "    <path d=\"M18.56 5.44l.94 2.06.94-2.06 2.06-.94-2.06-.94-.94-2.06-.94 2.06-2.06.94zm-11 1L8.5 8.5l.94-2.06 2.06-.94-2.06-.94L8.5 2.5l-.94 2.06-2.06.94zm10 10l.94 2.06.94-2.06 2.06-.94-2.06-.94-.94-2.06-.94 2.06-2.06.94z\"/><path d=\"M17.41 7.96l-1.37-1.37c-.4-.4-.92-.59-1.43-.59-.52 0-1.04.2-1.43.59L10.3 9.45l-7.72 7.72c-.78.78-.78 2.05 0 2.83L4 21.41c.39.39.9.59 1.41.59.51 0 1.02-.2 1.41-.59l7.78-7.78 2.81-2.81c.8-.78.8-2.07 0-2.86zM5.41 20L4 18.59l7.72-7.72 1.47 1.35L5.41 20z\"/>\n",
              "  </svg>\n",
              "      </button>\n",
              "      \n",
              "  <style>\n",
              "    .colab-df-container {\n",
              "      display:flex;\n",
              "      flex-wrap:wrap;\n",
              "      gap: 12px;\n",
              "    }\n",
              "\n",
              "    .colab-df-convert {\n",
              "      background-color: #E8F0FE;\n",
              "      border: none;\n",
              "      border-radius: 50%;\n",
              "      cursor: pointer;\n",
              "      display: none;\n",
              "      fill: #1967D2;\n",
              "      height: 32px;\n",
              "      padding: 0 0 0 0;\n",
              "      width: 32px;\n",
              "    }\n",
              "\n",
              "    .colab-df-convert:hover {\n",
              "      background-color: #E2EBFA;\n",
              "      box-shadow: 0px 1px 2px rgba(60, 64, 67, 0.3), 0px 1px 3px 1px rgba(60, 64, 67, 0.15);\n",
              "      fill: #174EA6;\n",
              "    }\n",
              "\n",
              "    [theme=dark] .colab-df-convert {\n",
              "      background-color: #3B4455;\n",
              "      fill: #D2E3FC;\n",
              "    }\n",
              "\n",
              "    [theme=dark] .colab-df-convert:hover {\n",
              "      background-color: #434B5C;\n",
              "      box-shadow: 0px 1px 3px 1px rgba(0, 0, 0, 0.15);\n",
              "      filter: drop-shadow(0px 1px 2px rgba(0, 0, 0, 0.3));\n",
              "      fill: #FFFFFF;\n",
              "    }\n",
              "  </style>\n",
              "\n",
              "      <script>\n",
              "        const buttonEl =\n",
              "          document.querySelector('#df-96bd14e1-ccae-474b-b0ba-32a1e24ce2da button.colab-df-convert');\n",
              "        buttonEl.style.display =\n",
              "          google.colab.kernel.accessAllowed ? 'block' : 'none';\n",
              "\n",
              "        async function convertToInteractive(key) {\n",
              "          const element = document.querySelector('#df-96bd14e1-ccae-474b-b0ba-32a1e24ce2da');\n",
              "          const dataTable =\n",
              "            await google.colab.kernel.invokeFunction('convertToInteractive',\n",
              "                                                     [key], {});\n",
              "          if (!dataTable) return;\n",
              "\n",
              "          const docLinkHtml = 'Like what you see? Visit the ' +\n",
              "            '<a target=\"_blank\" href=https://colab.research.google.com/notebooks/data_table.ipynb>data table notebook</a>'\n",
              "            + ' to learn more about interactive tables.';\n",
              "          element.innerHTML = '';\n",
              "          dataTable['output_type'] = 'display_data';\n",
              "          await google.colab.output.renderOutput(dataTable, element);\n",
              "          const docLink = document.createElement('div');\n",
              "          docLink.innerHTML = docLinkHtml;\n",
              "          element.appendChild(docLink);\n",
              "        }\n",
              "      </script>\n",
              "    </div>\n",
              "  </div>\n",
              "  "
            ]
          },
          "metadata": {},
          "execution_count": 468
        }
      ],
      "source": [
        "train_df.head()"
      ]
    },
    {
      "cell_type": "code",
      "execution_count": 469,
      "metadata": {
        "colab": {
          "base_uri": "https://localhost:8080/",
          "height": 206
        },
        "id": "ptutrgq-MEfQ",
        "outputId": "c52ba380-1ffc-4ad7-cd8c-3da9f864dbd6"
      },
      "outputs": [
        {
          "output_type": "execute_result",
          "data": {
            "text/plain": [
              "   Unnamed: 0  carat        cut color clarity  depth  table     x     y     z\n",
              "0           1   0.23      Ideal     E     SI2   61.5   55.0  3.95  3.98  2.43\n",
              "1           3   0.23       Good     E     VS1   56.9   65.0  4.05  4.07  2.31\n",
              "2           8   0.26  Very Good     H     SI1   61.9   55.0  4.07  4.11  2.53\n",
              "3          10   0.23  Very Good     H     VS1   59.4   61.0  4.00  4.05  2.39\n",
              "4          12   0.23      Ideal     J     VS1   62.8   56.0  3.93  3.90  2.46"
            ],
            "text/html": [
              "\n",
              "  <div id=\"df-12ebd3ce-0141-40e9-a4b4-9b85ce7ac5e7\">\n",
              "    <div class=\"colab-df-container\">\n",
              "      <div>\n",
              "<style scoped>\n",
              "    .dataframe tbody tr th:only-of-type {\n",
              "        vertical-align: middle;\n",
              "    }\n",
              "\n",
              "    .dataframe tbody tr th {\n",
              "        vertical-align: top;\n",
              "    }\n",
              "\n",
              "    .dataframe thead th {\n",
              "        text-align: right;\n",
              "    }\n",
              "</style>\n",
              "<table border=\"1\" class=\"dataframe\">\n",
              "  <thead>\n",
              "    <tr style=\"text-align: right;\">\n",
              "      <th></th>\n",
              "      <th>Unnamed: 0</th>\n",
              "      <th>carat</th>\n",
              "      <th>cut</th>\n",
              "      <th>color</th>\n",
              "      <th>clarity</th>\n",
              "      <th>depth</th>\n",
              "      <th>table</th>\n",
              "      <th>x</th>\n",
              "      <th>y</th>\n",
              "      <th>z</th>\n",
              "    </tr>\n",
              "  </thead>\n",
              "  <tbody>\n",
              "    <tr>\n",
              "      <th>0</th>\n",
              "      <td>1</td>\n",
              "      <td>0.23</td>\n",
              "      <td>Ideal</td>\n",
              "      <td>E</td>\n",
              "      <td>SI2</td>\n",
              "      <td>61.5</td>\n",
              "      <td>55.0</td>\n",
              "      <td>3.95</td>\n",
              "      <td>3.98</td>\n",
              "      <td>2.43</td>\n",
              "    </tr>\n",
              "    <tr>\n",
              "      <th>1</th>\n",
              "      <td>3</td>\n",
              "      <td>0.23</td>\n",
              "      <td>Good</td>\n",
              "      <td>E</td>\n",
              "      <td>VS1</td>\n",
              "      <td>56.9</td>\n",
              "      <td>65.0</td>\n",
              "      <td>4.05</td>\n",
              "      <td>4.07</td>\n",
              "      <td>2.31</td>\n",
              "    </tr>\n",
              "    <tr>\n",
              "      <th>2</th>\n",
              "      <td>8</td>\n",
              "      <td>0.26</td>\n",
              "      <td>Very Good</td>\n",
              "      <td>H</td>\n",
              "      <td>SI1</td>\n",
              "      <td>61.9</td>\n",
              "      <td>55.0</td>\n",
              "      <td>4.07</td>\n",
              "      <td>4.11</td>\n",
              "      <td>2.53</td>\n",
              "    </tr>\n",
              "    <tr>\n",
              "      <th>3</th>\n",
              "      <td>10</td>\n",
              "      <td>0.23</td>\n",
              "      <td>Very Good</td>\n",
              "      <td>H</td>\n",
              "      <td>VS1</td>\n",
              "      <td>59.4</td>\n",
              "      <td>61.0</td>\n",
              "      <td>4.00</td>\n",
              "      <td>4.05</td>\n",
              "      <td>2.39</td>\n",
              "    </tr>\n",
              "    <tr>\n",
              "      <th>4</th>\n",
              "      <td>12</td>\n",
              "      <td>0.23</td>\n",
              "      <td>Ideal</td>\n",
              "      <td>J</td>\n",
              "      <td>VS1</td>\n",
              "      <td>62.8</td>\n",
              "      <td>56.0</td>\n",
              "      <td>3.93</td>\n",
              "      <td>3.90</td>\n",
              "      <td>2.46</td>\n",
              "    </tr>\n",
              "  </tbody>\n",
              "</table>\n",
              "</div>\n",
              "      <button class=\"colab-df-convert\" onclick=\"convertToInteractive('df-12ebd3ce-0141-40e9-a4b4-9b85ce7ac5e7')\"\n",
              "              title=\"Convert this dataframe to an interactive table.\"\n",
              "              style=\"display:none;\">\n",
              "        \n",
              "  <svg xmlns=\"http://www.w3.org/2000/svg\" height=\"24px\"viewBox=\"0 0 24 24\"\n",
              "       width=\"24px\">\n",
              "    <path d=\"M0 0h24v24H0V0z\" fill=\"none\"/>\n",
              "    <path d=\"M18.56 5.44l.94 2.06.94-2.06 2.06-.94-2.06-.94-.94-2.06-.94 2.06-2.06.94zm-11 1L8.5 8.5l.94-2.06 2.06-.94-2.06-.94L8.5 2.5l-.94 2.06-2.06.94zm10 10l.94 2.06.94-2.06 2.06-.94-2.06-.94-.94-2.06-.94 2.06-2.06.94z\"/><path d=\"M17.41 7.96l-1.37-1.37c-.4-.4-.92-.59-1.43-.59-.52 0-1.04.2-1.43.59L10.3 9.45l-7.72 7.72c-.78.78-.78 2.05 0 2.83L4 21.41c.39.39.9.59 1.41.59.51 0 1.02-.2 1.41-.59l7.78-7.78 2.81-2.81c.8-.78.8-2.07 0-2.86zM5.41 20L4 18.59l7.72-7.72 1.47 1.35L5.41 20z\"/>\n",
              "  </svg>\n",
              "      </button>\n",
              "      \n",
              "  <style>\n",
              "    .colab-df-container {\n",
              "      display:flex;\n",
              "      flex-wrap:wrap;\n",
              "      gap: 12px;\n",
              "    }\n",
              "\n",
              "    .colab-df-convert {\n",
              "      background-color: #E8F0FE;\n",
              "      border: none;\n",
              "      border-radius: 50%;\n",
              "      cursor: pointer;\n",
              "      display: none;\n",
              "      fill: #1967D2;\n",
              "      height: 32px;\n",
              "      padding: 0 0 0 0;\n",
              "      width: 32px;\n",
              "    }\n",
              "\n",
              "    .colab-df-convert:hover {\n",
              "      background-color: #E2EBFA;\n",
              "      box-shadow: 0px 1px 2px rgba(60, 64, 67, 0.3), 0px 1px 3px 1px rgba(60, 64, 67, 0.15);\n",
              "      fill: #174EA6;\n",
              "    }\n",
              "\n",
              "    [theme=dark] .colab-df-convert {\n",
              "      background-color: #3B4455;\n",
              "      fill: #D2E3FC;\n",
              "    }\n",
              "\n",
              "    [theme=dark] .colab-df-convert:hover {\n",
              "      background-color: #434B5C;\n",
              "      box-shadow: 0px 1px 3px 1px rgba(0, 0, 0, 0.15);\n",
              "      filter: drop-shadow(0px 1px 2px rgba(0, 0, 0, 0.3));\n",
              "      fill: #FFFFFF;\n",
              "    }\n",
              "  </style>\n",
              "\n",
              "      <script>\n",
              "        const buttonEl =\n",
              "          document.querySelector('#df-12ebd3ce-0141-40e9-a4b4-9b85ce7ac5e7 button.colab-df-convert');\n",
              "        buttonEl.style.display =\n",
              "          google.colab.kernel.accessAllowed ? 'block' : 'none';\n",
              "\n",
              "        async function convertToInteractive(key) {\n",
              "          const element = document.querySelector('#df-12ebd3ce-0141-40e9-a4b4-9b85ce7ac5e7');\n",
              "          const dataTable =\n",
              "            await google.colab.kernel.invokeFunction('convertToInteractive',\n",
              "                                                     [key], {});\n",
              "          if (!dataTable) return;\n",
              "\n",
              "          const docLinkHtml = 'Like what you see? Visit the ' +\n",
              "            '<a target=\"_blank\" href=https://colab.research.google.com/notebooks/data_table.ipynb>data table notebook</a>'\n",
              "            + ' to learn more about interactive tables.';\n",
              "          element.innerHTML = '';\n",
              "          dataTable['output_type'] = 'display_data';\n",
              "          await google.colab.output.renderOutput(dataTable, element);\n",
              "          const docLink = document.createElement('div');\n",
              "          docLink.innerHTML = docLinkHtml;\n",
              "          element.appendChild(docLink);\n",
              "        }\n",
              "      </script>\n",
              "    </div>\n",
              "  </div>\n",
              "  "
            ]
          },
          "metadata": {},
          "execution_count": 469
        }
      ],
      "source": [
        "test_df.head()"
      ]
    },
    {
      "cell_type": "code",
      "execution_count": 470,
      "metadata": {
        "colab": {
          "base_uri": "https://localhost:8080/"
        },
        "id": "B0d3ps8xlY6d",
        "outputId": "3cf78f0b-d2c5-4a12-d218-8185a6c45f59"
      },
      "outputs": [
        {
          "output_type": "stream",
          "name": "stdout",
          "text": [
            "<class 'pandas.core.frame.DataFrame'>\n",
            "RangeIndex: 43040 entries, 0 to 43039\n",
            "Data columns (total 11 columns):\n",
            " #   Column      Non-Null Count  Dtype  \n",
            "---  ------      --------------  -----  \n",
            " 0   Unnamed: 0  43040 non-null  int64  \n",
            " 1   carat       43040 non-null  float64\n",
            " 2   cut         43040 non-null  object \n",
            " 3   color       43040 non-null  object \n",
            " 4   clarity     43040 non-null  object \n",
            " 5   depth       43040 non-null  float64\n",
            " 6   table       43040 non-null  float64\n",
            " 7   price       43040 non-null  int64  \n",
            " 8   x           43040 non-null  float64\n",
            " 9   y           43040 non-null  float64\n",
            " 10  z           43040 non-null  float64\n",
            "dtypes: float64(6), int64(2), object(3)\n",
            "memory usage: 3.6+ MB\n"
          ]
        }
      ],
      "source": [
        "train_df.info()"
      ]
    },
    {
      "cell_type": "code",
      "execution_count": 410,
      "metadata": {
        "colab": {
          "base_uri": "https://localhost:8080/"
        },
        "id": "fLgfkSBilZLZ",
        "outputId": "654180a5-bd55-4a60-945a-3e658bdc9612"
      },
      "outputs": [
        {
          "output_type": "stream",
          "name": "stdout",
          "text": [
            "<class 'pandas.core.frame.DataFrame'>\n",
            "RangeIndex: 10900 entries, 0 to 10899\n",
            "Data columns (total 10 columns):\n",
            " #   Column      Non-Null Count  Dtype  \n",
            "---  ------      --------------  -----  \n",
            " 0   Unnamed: 0  10900 non-null  int64  \n",
            " 1   carat       10900 non-null  float64\n",
            " 2   cut         10900 non-null  object \n",
            " 3   color       10900 non-null  object \n",
            " 4   clarity     10900 non-null  object \n",
            " 5   depth       10900 non-null  float64\n",
            " 6   table       10900 non-null  float64\n",
            " 7   x           10900 non-null  float64\n",
            " 8   y           10900 non-null  float64\n",
            " 9   z           10900 non-null  float64\n",
            "dtypes: float64(6), int64(1), object(3)\n",
            "memory usage: 851.7+ KB\n"
          ]
        }
      ],
      "source": [
        "test_df.info()"
      ]
    },
    {
      "cell_type": "code",
      "source": [
        "train_df.shape"
      ],
      "metadata": {
        "colab": {
          "base_uri": "https://localhost:8080/"
        },
        "id": "Gz559QayQsxa",
        "outputId": "189278f3-1694-450e-975f-b8e55175d706"
      },
      "execution_count": 411,
      "outputs": [
        {
          "output_type": "execute_result",
          "data": {
            "text/plain": [
              "(43040, 11)"
            ]
          },
          "metadata": {},
          "execution_count": 411
        }
      ]
    },
    {
      "cell_type": "code",
      "source": [
        "train_df.isna().sum()"
      ],
      "metadata": {
        "colab": {
          "base_uri": "https://localhost:8080/"
        },
        "id": "RpUwIVMT4Q-V",
        "outputId": "b72f4b89-8045-4efa-b21a-47a3ebf08c7f"
      },
      "execution_count": 412,
      "outputs": [
        {
          "output_type": "execute_result",
          "data": {
            "text/plain": [
              "Unnamed: 0    0\n",
              "carat         0\n",
              "cut           0\n",
              "color         0\n",
              "clarity       0\n",
              "depth         0\n",
              "table         0\n",
              "price         0\n",
              "x             0\n",
              "y             0\n",
              "z             0\n",
              "dtype: int64"
            ]
          },
          "metadata": {},
          "execution_count": 412
        }
      ]
    },
    {
      "cell_type": "code",
      "source": [
        "test_df.isna().sum()"
      ],
      "metadata": {
        "colab": {
          "base_uri": "https://localhost:8080/"
        },
        "id": "7KMF5mzd4TRH",
        "outputId": "b9cf903d-67d8-497e-af40-05678368d49e"
      },
      "execution_count": 413,
      "outputs": [
        {
          "output_type": "execute_result",
          "data": {
            "text/plain": [
              "Unnamed: 0    0\n",
              "carat         0\n",
              "cut           0\n",
              "color         0\n",
              "clarity       0\n",
              "depth         0\n",
              "table         0\n",
              "x             0\n",
              "y             0\n",
              "z             0\n",
              "dtype: int64"
            ]
          },
          "metadata": {},
          "execution_count": 413
        }
      ]
    },
    {
      "cell_type": "code",
      "execution_count": 471,
      "metadata": {
        "colab": {
          "base_uri": "https://localhost:8080/",
          "height": 300
        },
        "id": "45M4cXyRlZXt",
        "outputId": "b5006318-a0f2-4151-f883-b02d9238a39c"
      },
      "outputs": [
        {
          "output_type": "execute_result",
          "data": {
            "text/plain": [
              "         Unnamed: 0         carat         depth         table         price  \\\n",
              "count  43040.000000  43040.000000  43040.000000  43040.000000  43040.000000   \n",
              "mean   26758.804554      0.796964     61.746080     57.439542   3942.706343   \n",
              "std    15484.904515      0.481455      1.435246      2.240196   4023.534556   \n",
              "min        2.000000      0.200000     43.000000     43.000000    326.000000   \n",
              "25%    13326.750000      0.380000     61.000000     56.000000    940.000000   \n",
              "50%    26824.500000      0.710000     61.800000     57.000000   2388.000000   \n",
              "75%    40290.250000      1.030000     62.500000     59.000000   5309.250000   \n",
              "max    53940.000000      5.010000     79.000000     95.000000  18823.000000   \n",
              "\n",
              "                  x             y             z  \n",
              "count  43040.000000  43040.000000  43040.000000  \n",
              "mean       5.724376      5.728122      3.534367  \n",
              "std        1.132496      1.159641      0.714543  \n",
              "min        0.000000      0.000000      0.000000  \n",
              "25%        4.660000      4.670000      2.870000  \n",
              "50%        5.710000      5.720000      3.530000  \n",
              "75%        6.500000      6.500000      4.020000  \n",
              "max       10.740000     58.900000     31.800000  "
            ],
            "text/html": [
              "\n",
              "  <div id=\"df-0408f0d8-c94d-4ab5-9adc-5367283aaaea\">\n",
              "    <div class=\"colab-df-container\">\n",
              "      <div>\n",
              "<style scoped>\n",
              "    .dataframe tbody tr th:only-of-type {\n",
              "        vertical-align: middle;\n",
              "    }\n",
              "\n",
              "    .dataframe tbody tr th {\n",
              "        vertical-align: top;\n",
              "    }\n",
              "\n",
              "    .dataframe thead th {\n",
              "        text-align: right;\n",
              "    }\n",
              "</style>\n",
              "<table border=\"1\" class=\"dataframe\">\n",
              "  <thead>\n",
              "    <tr style=\"text-align: right;\">\n",
              "      <th></th>\n",
              "      <th>Unnamed: 0</th>\n",
              "      <th>carat</th>\n",
              "      <th>depth</th>\n",
              "      <th>table</th>\n",
              "      <th>price</th>\n",
              "      <th>x</th>\n",
              "      <th>y</th>\n",
              "      <th>z</th>\n",
              "    </tr>\n",
              "  </thead>\n",
              "  <tbody>\n",
              "    <tr>\n",
              "      <th>count</th>\n",
              "      <td>43040.000000</td>\n",
              "      <td>43040.000000</td>\n",
              "      <td>43040.000000</td>\n",
              "      <td>43040.000000</td>\n",
              "      <td>43040.000000</td>\n",
              "      <td>43040.000000</td>\n",
              "      <td>43040.000000</td>\n",
              "      <td>43040.000000</td>\n",
              "    </tr>\n",
              "    <tr>\n",
              "      <th>mean</th>\n",
              "      <td>26758.804554</td>\n",
              "      <td>0.796964</td>\n",
              "      <td>61.746080</td>\n",
              "      <td>57.439542</td>\n",
              "      <td>3942.706343</td>\n",
              "      <td>5.724376</td>\n",
              "      <td>5.728122</td>\n",
              "      <td>3.534367</td>\n",
              "    </tr>\n",
              "    <tr>\n",
              "      <th>std</th>\n",
              "      <td>15484.904515</td>\n",
              "      <td>0.481455</td>\n",
              "      <td>1.435246</td>\n",
              "      <td>2.240196</td>\n",
              "      <td>4023.534556</td>\n",
              "      <td>1.132496</td>\n",
              "      <td>1.159641</td>\n",
              "      <td>0.714543</td>\n",
              "    </tr>\n",
              "    <tr>\n",
              "      <th>min</th>\n",
              "      <td>2.000000</td>\n",
              "      <td>0.200000</td>\n",
              "      <td>43.000000</td>\n",
              "      <td>43.000000</td>\n",
              "      <td>326.000000</td>\n",
              "      <td>0.000000</td>\n",
              "      <td>0.000000</td>\n",
              "      <td>0.000000</td>\n",
              "    </tr>\n",
              "    <tr>\n",
              "      <th>25%</th>\n",
              "      <td>13326.750000</td>\n",
              "      <td>0.380000</td>\n",
              "      <td>61.000000</td>\n",
              "      <td>56.000000</td>\n",
              "      <td>940.000000</td>\n",
              "      <td>4.660000</td>\n",
              "      <td>4.670000</td>\n",
              "      <td>2.870000</td>\n",
              "    </tr>\n",
              "    <tr>\n",
              "      <th>50%</th>\n",
              "      <td>26824.500000</td>\n",
              "      <td>0.710000</td>\n",
              "      <td>61.800000</td>\n",
              "      <td>57.000000</td>\n",
              "      <td>2388.000000</td>\n",
              "      <td>5.710000</td>\n",
              "      <td>5.720000</td>\n",
              "      <td>3.530000</td>\n",
              "    </tr>\n",
              "    <tr>\n",
              "      <th>75%</th>\n",
              "      <td>40290.250000</td>\n",
              "      <td>1.030000</td>\n",
              "      <td>62.500000</td>\n",
              "      <td>59.000000</td>\n",
              "      <td>5309.250000</td>\n",
              "      <td>6.500000</td>\n",
              "      <td>6.500000</td>\n",
              "      <td>4.020000</td>\n",
              "    </tr>\n",
              "    <tr>\n",
              "      <th>max</th>\n",
              "      <td>53940.000000</td>\n",
              "      <td>5.010000</td>\n",
              "      <td>79.000000</td>\n",
              "      <td>95.000000</td>\n",
              "      <td>18823.000000</td>\n",
              "      <td>10.740000</td>\n",
              "      <td>58.900000</td>\n",
              "      <td>31.800000</td>\n",
              "    </tr>\n",
              "  </tbody>\n",
              "</table>\n",
              "</div>\n",
              "      <button class=\"colab-df-convert\" onclick=\"convertToInteractive('df-0408f0d8-c94d-4ab5-9adc-5367283aaaea')\"\n",
              "              title=\"Convert this dataframe to an interactive table.\"\n",
              "              style=\"display:none;\">\n",
              "        \n",
              "  <svg xmlns=\"http://www.w3.org/2000/svg\" height=\"24px\"viewBox=\"0 0 24 24\"\n",
              "       width=\"24px\">\n",
              "    <path d=\"M0 0h24v24H0V0z\" fill=\"none\"/>\n",
              "    <path d=\"M18.56 5.44l.94 2.06.94-2.06 2.06-.94-2.06-.94-.94-2.06-.94 2.06-2.06.94zm-11 1L8.5 8.5l.94-2.06 2.06-.94-2.06-.94L8.5 2.5l-.94 2.06-2.06.94zm10 10l.94 2.06.94-2.06 2.06-.94-2.06-.94-.94-2.06-.94 2.06-2.06.94z\"/><path d=\"M17.41 7.96l-1.37-1.37c-.4-.4-.92-.59-1.43-.59-.52 0-1.04.2-1.43.59L10.3 9.45l-7.72 7.72c-.78.78-.78 2.05 0 2.83L4 21.41c.39.39.9.59 1.41.59.51 0 1.02-.2 1.41-.59l7.78-7.78 2.81-2.81c.8-.78.8-2.07 0-2.86zM5.41 20L4 18.59l7.72-7.72 1.47 1.35L5.41 20z\"/>\n",
              "  </svg>\n",
              "      </button>\n",
              "      \n",
              "  <style>\n",
              "    .colab-df-container {\n",
              "      display:flex;\n",
              "      flex-wrap:wrap;\n",
              "      gap: 12px;\n",
              "    }\n",
              "\n",
              "    .colab-df-convert {\n",
              "      background-color: #E8F0FE;\n",
              "      border: none;\n",
              "      border-radius: 50%;\n",
              "      cursor: pointer;\n",
              "      display: none;\n",
              "      fill: #1967D2;\n",
              "      height: 32px;\n",
              "      padding: 0 0 0 0;\n",
              "      width: 32px;\n",
              "    }\n",
              "\n",
              "    .colab-df-convert:hover {\n",
              "      background-color: #E2EBFA;\n",
              "      box-shadow: 0px 1px 2px rgba(60, 64, 67, 0.3), 0px 1px 3px 1px rgba(60, 64, 67, 0.15);\n",
              "      fill: #174EA6;\n",
              "    }\n",
              "\n",
              "    [theme=dark] .colab-df-convert {\n",
              "      background-color: #3B4455;\n",
              "      fill: #D2E3FC;\n",
              "    }\n",
              "\n",
              "    [theme=dark] .colab-df-convert:hover {\n",
              "      background-color: #434B5C;\n",
              "      box-shadow: 0px 1px 3px 1px rgba(0, 0, 0, 0.15);\n",
              "      filter: drop-shadow(0px 1px 2px rgba(0, 0, 0, 0.3));\n",
              "      fill: #FFFFFF;\n",
              "    }\n",
              "  </style>\n",
              "\n",
              "      <script>\n",
              "        const buttonEl =\n",
              "          document.querySelector('#df-0408f0d8-c94d-4ab5-9adc-5367283aaaea button.colab-df-convert');\n",
              "        buttonEl.style.display =\n",
              "          google.colab.kernel.accessAllowed ? 'block' : 'none';\n",
              "\n",
              "        async function convertToInteractive(key) {\n",
              "          const element = document.querySelector('#df-0408f0d8-c94d-4ab5-9adc-5367283aaaea');\n",
              "          const dataTable =\n",
              "            await google.colab.kernel.invokeFunction('convertToInteractive',\n",
              "                                                     [key], {});\n",
              "          if (!dataTable) return;\n",
              "\n",
              "          const docLinkHtml = 'Like what you see? Visit the ' +\n",
              "            '<a target=\"_blank\" href=https://colab.research.google.com/notebooks/data_table.ipynb>data table notebook</a>'\n",
              "            + ' to learn more about interactive tables.';\n",
              "          element.innerHTML = '';\n",
              "          dataTable['output_type'] = 'display_data';\n",
              "          await google.colab.output.renderOutput(dataTable, element);\n",
              "          const docLink = document.createElement('div');\n",
              "          docLink.innerHTML = docLinkHtml;\n",
              "          element.appendChild(docLink);\n",
              "        }\n",
              "      </script>\n",
              "    </div>\n",
              "  </div>\n",
              "  "
            ]
          },
          "metadata": {},
          "execution_count": 471
        }
      ],
      "source": [
        "train_df.describe()"
      ]
    },
    {
      "cell_type": "code",
      "execution_count": 472,
      "metadata": {
        "id": "EHU7tFc6lZud",
        "colab": {
          "base_uri": "https://localhost:8080/",
          "height": 607
        },
        "outputId": "537f9798-e9a9-4c7b-eff6-17aa955a3d0a"
      },
      "outputs": [
        {
          "output_type": "display_data",
          "data": {
            "text/plain": [
              "<Figure size 1440x720 with 9 Axes>"
            ],
            "image/png": "[encoded data removed]"
          },
          "metadata": {
            "needs_background": "light"
          }
        }
      ],
      "source": [
        "train_df.hist(bins=50, figsize=(20,10))\n",
        "plt.show()"
      ]
    },
    {
      "cell_type": "markdown",
      "source": [
        "## Looking for correlations"
      ],
      "metadata": {
        "id": "DNnX1ImS574W"
      }
    },
    {
      "cell_type": "code",
      "source": [
        "sns.heatmap(train_df.corr(), annot=True)\n",
        "plt.show()"
      ],
      "metadata": {
        "colab": {
          "base_uri": "https://localhost:8080/",
          "height": 320
        },
        "id": "MLGlcfiI4uBO",
        "outputId": "2b35442a-1a61-41a0-c00e-b4eca897bb57"
      },
      "execution_count": 473,
      "outputs": [
        {
          "output_type": "display_data",
          "data": {
            "text/plain": [
              "<Figure size 432x288 with 2 Axes>"
            ],
            "image/png": "[encoded data removed]"
          },
          "metadata": {
            "needs_background": "light"
          }
        }
      ]
    },
    {
      "cell_type": "code",
      "source": [
        "corr_matrix = train_df.corr()\n",
        "corr_matrix['price'].sort_values(ascending= False)"
      ],
      "metadata": {
        "colab": {
          "base_uri": "https://localhost:8080/"
        },
        "id": "IkSz0hZdQoWz",
        "outputId": "75379232-d43d-441b-a928-13c4b3671d65"
      },
      "execution_count": 364,
      "outputs": [
        {
          "output_type": "execute_result",
          "data": {
            "text/plain": [
              "price         1.000000\n",
              "carat         0.923801\n",
              "x             0.887483\n",
              "y             0.863748\n",
              "z             0.860625\n",
              "table         0.136975\n",
              "depth        -0.014393\n",
              "Unnamed: 0   -0.301711\n",
              "Name: price, dtype: float64"
            ]
          },
          "metadata": {},
          "execution_count": 364
        }
      ]
    },
    {
      "cell_type": "markdown",
      "source": [
        "## Show outliers by boxplot\n"
      ],
      "metadata": {
        "id": "jJLXpORp6VAw"
      }
    },
    {
      "cell_type": "code",
      "source": [
        "j=1\n",
        "for j in train_df.select_dtypes(exclude=['object']):\n",
        "  sns.boxplot(x=train_df[j])\n",
        "  plt.show()"
      ],
      "metadata": {
        "colab": {
          "base_uri": "https://localhost:8080/",
          "height": 1000
        },
        "id": "wv0iwgwHWTHO",
        "outputId": "1022b04d-b62a-45c8-d0fb-c91b35d4d6a0"
      },
      "execution_count": 308,
      "outputs": [
        {
          "output_type": "display_data",
          "data": {
            "text/plain": [
              "<Figure size 432x288 with 1 Axes>"
            ],
            "image/png": "[encoded data removed]"
          },
          "metadata": {
            "needs_background": "light"
          }
        },
        {
          "output_type": "display_data",
          "data": {
            "text/plain": [
              "<Figure size 432x288 with 1 Axes>"
            ],
            "image/png": "[encoded data removed]"
          },
          "metadata": {
            "needs_background": "light"
          }
        },
        {
          "output_type": "display_data",
          "data": {
            "text/plain": [
              "<Figure size 432x288 with 1 Axes>"
            ],
            "image/png": "[encoded data removed]"
          },
          "metadata": {
            "needs_background": "light"
          }
        },
        {
          "output_type": "display_data",
          "data": {
            "text/plain": [
              "<Figure size 432x288 with 1 Axes>"
            ],
            "image/png": "[encoded data removed]"
          },
          "metadata": {
            "needs_background": "light"
          }
        },
        {
          "output_type": "display_data",
          "data": {
            "text/plain": [
              "<Figure size 432x288 with 1 Axes>"
            ],
            "image/png": "[encoded data removed]"
          },
          "metadata": {
            "needs_background": "light"
          }
        },
        {
          "output_type": "display_data",
          "data": {
            "text/plain": [
              "<Figure size 432x288 with 1 Axes>"
            ],
            "image/png": "[encoded data removed]"
          },
          "metadata": {
            "needs_background": "light"
          }
        },
        {
          "output_type": "display_data",
          "data": {
            "text/plain": [
              "<Figure size 432x288 with 1 Axes>"
            ],
            "image/png": "[encoded data removed]"
          },
          "metadata": {
            "needs_background": "light"
          }
        },
        {
          "output_type": "display_data",
          "data": {
            "text/plain": [
              "<Figure size 432x288 with 1 Axes>"
            ],
            "image/png": "[encoded data removed]"
          },
          "metadata": {
            "needs_background": "light"
          }
        }
      ]
    },
    {
      "cell_type": "code",
      "execution_count": 474,
      "metadata": {
        "id": "GRGvt6KilZlk"
      },
      "outputs": [],
      "source": [
        "train_df=train_df.drop('Unnamed: 0', axis=1 )\n",
        "test_df=test_df.drop('Unnamed: 0',axis=1)"
      ]
    },
    {
      "cell_type": "markdown",
      "source": [
        "##Remove outliers"
      ],
      "metadata": {
        "id": "mp8HQDZgm1RP"
      }
    },
    {
      "cell_type": "markdown",
      "source": [
        "## Remove outliers using IQR "
      ],
      "metadata": {
        "id": "8Ms0MDz8xAUJ"
      }
    },
    {
      "cell_type": "code",
      "source": [
        "'''linear_vars = train_df.select_dtypes(include=[np.number]).columns'''"
      ],
      "metadata": {
        "id": "75S-RZ83NXQ0"
      },
      "execution_count": 366,
      "outputs": []
    },
    {
      "cell_type": "code",
      "source": [
        "\"\"\"def  outliers(df , ft ):\n",
        "    \n",
        "    Q1=df[ft].quantile(0.25)\n",
        "    Q3=df[ft].quantile(0.75)\n",
        "    IQR=Q3 - Q1\n",
        "    # Upper bound\n",
        "    upper = Q3+1.5*IQR\n",
        "    # Lower bound\n",
        "    lower = Q1-1.5*IQR\n",
        "\n",
        "    ls=df.index[(df[ft] < lower) | (df[ft] > upper)]\n",
        "    return ls \"\"\""
      ],
      "metadata": {
        "id": "P3yLmYt3NYC_"
      },
      "execution_count": 264,
      "outputs": []
    },
    {
      "cell_type": "code",
      "source": [
        "'''index_list=[]\n",
        "for feature in linear_vars :\n",
        "    index_list.extend(outliers(train_df , feature ))'''"
      ],
      "metadata": {
        "id": "tnomi-nmNYWq"
      },
      "execution_count": 265,
      "outputs": []
    },
    {
      "cell_type": "code",
      "source": [
        "'''def remove(df, ls):\n",
        "    ls=sorted(set(ls))\n",
        "    df=df.drop(ls)\n",
        "    return df'''"
      ],
      "metadata": {
        "id": "TobbmSCfNkKj"
      },
      "execution_count": 266,
      "outputs": []
    },
    {
      "cell_type": "code",
      "source": [
        "'''train_df= remove(train_df , index_list)'''"
      ],
      "metadata": {
        "id": "u8ciKFKZNn1U"
      },
      "execution_count": 267,
      "outputs": []
    },
    {
      "cell_type": "markdown",
      "source": [
        "## Remove zero value in x,y,z features"
      ],
      "metadata": {
        "id": "KW3IaCelxNFf"
      }
    },
    {
      "cell_type": "code",
      "source": [
        "train_df=train_df.drop(train_df.index[train_df['x'] == 0],axis=0)"
      ],
      "metadata": {
        "id": "megVRZLbdNRO"
      },
      "execution_count": 475,
      "outputs": []
    },
    {
      "cell_type": "code",
      "source": [
        "train_df= train_df.drop(train_df.index[train_df['z'] == 0],axis=0)"
      ],
      "metadata": {
        "id": "qtMUSA9W9f5S"
      },
      "execution_count": 476,
      "outputs": []
    },
    {
      "cell_type": "markdown",
      "source": [
        "# remove outliers"
      ],
      "metadata": {
        "id": "Alr5cP76xVoF"
      }
    },
    {
      "cell_type": "code",
      "source": [
        "train_df=train_df.drop(train_df.index[train_df['z']>8], axis =0)"
      ],
      "metadata": {
        "id": "JO3ffx0FCXcg"
      },
      "execution_count": 477,
      "outputs": []
    },
    {
      "cell_type": "code",
      "source": [
        "train_df=train_df.drop(train_df.index[train_df['y']>30], axis =0)"
      ],
      "metadata": {
        "id": "OFni_MVrHT2r"
      },
      "execution_count": 478,
      "outputs": []
    },
    {
      "cell_type": "code",
      "source": [
        "train_df=train_df.drop(train_df.index[train_df['depth'] > 75], axis =0)\n",
        "train_df=train_df.drop(train_df.index[train_df['depth'] < 50], axis =0)"
      ],
      "metadata": {
        "id": "f-guwsqRI27e"
      },
      "execution_count": 479,
      "outputs": []
    },
    {
      "cell_type": "code",
      "source": [
        "train_df=train_df.drop(train_df.index[train_df['table']>80], axis =0)\n",
        "train_df=train_df.drop(train_df.index[train_df['table']<50], axis =0)"
      ],
      "metadata": {
        "id": "ku7qQxHwI628"
      },
      "execution_count": 480,
      "outputs": []
    },
    {
      "cell_type": "code",
      "source": [
        "train_df.shape"
      ],
      "metadata": {
        "colab": {
          "base_uri": "https://localhost:8080/"
        },
        "id": "X80IA0uBUZGU",
        "outputId": "892f1187-465d-487b-d693-83c8a34ce236"
      },
      "execution_count": 481,
      "outputs": [
        {
          "output_type": "execute_result",
          "data": {
            "text/plain": [
              "(43009, 10)"
            ]
          },
          "metadata": {},
          "execution_count": 481
        }
      ]
    },
    {
      "cell_type": "code",
      "source": [],
      "metadata": {
        "id": "Py3yOs4L594B"
      },
      "execution_count": 405,
      "outputs": []
    },
    {
      "cell_type": "code",
      "source": [
        "train_df['color'].value_counts()"
      ],
      "metadata": {
        "colab": {
          "base_uri": "https://localhost:8080/"
        },
        "id": "cMRl6oIZWmpb",
        "outputId": "c1d38bae-e9ad-4cb6-8ef6-507fd735639f"
      },
      "execution_count": 482,
      "outputs": [
        {
          "output_type": "execute_result",
          "data": {
            "text/plain": [
              "G    9072\n",
              "E    7716\n",
              "F    7522\n",
              "H    6633\n",
              "D    5555\n",
              "I    4294\n",
              "J    2217\n",
              "Name: color, dtype: int64"
            ]
          },
          "metadata": {},
          "execution_count": 482
        }
      ]
    },
    {
      "cell_type": "markdown",
      "source": [
        "# Feature Selection"
      ],
      "metadata": {
        "id": "HvhXdLKh6ifI"
      }
    },
    {
      "cell_type": "code",
      "source": [
        "train_df['volume']=train_df['x'] * train_df['y'] * train_df['z']\n",
        "train_df=train_df.drop(['x','y','z'], axis=1)"
      ],
      "metadata": {
        "id": "7sM919DxaGz1"
      },
      "execution_count": 483,
      "outputs": []
    },
    {
      "cell_type": "code",
      "source": [
        "test_df['volume']= test_df['x'] * test_df['y'] * test_df['z']\n",
        "test_df=test_df.drop(['x','y','z'], axis=1)"
      ],
      "metadata": {
        "id": "ibYfcVkxdmjf"
      },
      "execution_count": 484,
      "outputs": []
    },
    {
      "cell_type": "markdown",
      "source": [
        "# Use function map to convert data"
      ],
      "metadata": {
        "id": "IvFbHjsb7Ecf"
      }
    },
    {
      "cell_type": "code",
      "execution_count": 485,
      "metadata": {
        "id": "PN8ATZS0lbSQ"
      },
      "outputs": [],
      "source": [
        "a = {'Fair':0, 'Good':1, 'Very Good':2, 'Premium':3, 'Ideal':4}\n",
        "b = {'D':6,'E':5,'F':4,'G':3,'H':2,'I':1,'J':0}\n",
        "c = {'I1':0 , 'SI2':1, 'SI1':2, 'VS2':3, 'VS1':4, 'VVS2':5, 'VVS1':6, 'IF':7 }"
      ]
    },
    {
      "cell_type": "code",
      "source": [
        "train_df['cut']=train_df['cut'].map(a)\n",
        "test_df['cut']= test_df['cut'].map(a)"
      ],
      "metadata": {
        "id": "zR7RD0xY3aCG"
      },
      "execution_count": 486,
      "outputs": []
    },
    {
      "cell_type": "code",
      "source": [
        "train_df['color']=train_df['color'].map(b)\n",
        "test_df['color'] = test_df['color'].map(b)"
      ],
      "metadata": {
        "id": "66bPgxAq4okQ"
      },
      "execution_count": 487,
      "outputs": []
    },
    {
      "cell_type": "code",
      "source": [
        "train_df['clarity']=train_df['clarity'].map(c)\n",
        "test_df['clarity']=test_df['clarity'].map(c)"
      ],
      "metadata": {
        "id": "xL7q3aAt4o4W"
      },
      "execution_count": 488,
      "outputs": []
    },
    {
      "cell_type": "code",
      "source": [
        "train_df.head()"
      ],
      "metadata": {
        "colab": {
          "base_uri": "https://localhost:8080/",
          "height": 206
        },
        "id": "Erjod9_cTsDl",
        "outputId": "1083dff2-89ba-46fd-f46e-e4e9baf99ee7"
      },
      "execution_count": 489,
      "outputs": [
        {
          "output_type": "execute_result",
          "data": {
            "text/plain": [
              "   carat  cut  color  clarity  depth  table  price     volume\n",
              "0   0.21    3      5        2   59.8   61.0    326  34.505856\n",
              "1   0.29    3      1        3   62.4   58.0    334  46.724580\n",
              "2   0.31    1      0        1   63.3   58.0    335  51.917250\n",
              "3   0.24    2      0        5   62.8   57.0    336  38.693952\n",
              "4   0.24    2      1        6   62.3   57.0    336  38.830870"
            ],
            "text/html": [
              "\n",
              "  <div id=\"df-56b42b5b-b8a5-4d34-b29a-e9d084204e5b\">\n",
              "    <div class=\"colab-df-container\">\n",
              "      <div>\n",
              "<style scoped>\n",
              "    .dataframe tbody tr th:only-of-type {\n",
              "        vertical-align: middle;\n",
              "    }\n",
              "\n",
              "    .dataframe tbody tr th {\n",
              "        vertical-align: top;\n",
              "    }\n",
              "\n",
              "    .dataframe thead th {\n",
              "        text-align: right;\n",
              "    }\n",
              "</style>\n",
              "<table border=\"1\" class=\"dataframe\">\n",
              "  <thead>\n",
              "    <tr style=\"text-align: right;\">\n",
              "      <th></th>\n",
              "      <th>carat</th>\n",
              "      <th>cut</th>\n",
              "      <th>color</th>\n",
              "      <th>clarity</th>\n",
              "      <th>depth</th>\n",
              "      <th>table</th>\n",
              "      <th>price</th>\n",
              "      <th>volume</th>\n",
              "    </tr>\n",
              "  </thead>\n",
              "  <tbody>\n",
              "    <tr>\n",
              "      <th>0</th>\n",
              "      <td>0.21</td>\n",
              "      <td>3</td>\n",
              "      <td>5</td>\n",
              "      <td>2</td>\n",
              "      <td>59.8</td>\n",
              "      <td>61.0</td>\n",
              "      <td>326</td>\n",
              "      <td>34.505856</td>\n",
              "    </tr>\n",
              "    <tr>\n",
              "      <th>1</th>\n",
              "      <td>0.29</td>\n",
              "      <td>3</td>\n",
              "      <td>1</td>\n",
              "      <td>3</td>\n",
              "      <td>62.4</td>\n",
              "      <td>58.0</td>\n",
              "      <td>334</td>\n",
              "      <td>46.724580</td>\n",
              "    </tr>\n",
              "    <tr>\n",
              "      <th>2</th>\n",
              "      <td>0.31</td>\n",
              "      <td>1</td>\n",
              "      <td>0</td>\n",
              "      <td>1</td>\n",
              "      <td>63.3</td>\n",
              "      <td>58.0</td>\n",
              "      <td>335</td>\n",
              "      <td>51.917250</td>\n",
              "    </tr>\n",
              "    <tr>\n",
              "      <th>3</th>\n",
              "      <td>0.24</td>\n",
              "      <td>2</td>\n",
              "      <td>0</td>\n",
              "      <td>5</td>\n",
              "      <td>62.8</td>\n",
              "      <td>57.0</td>\n",
              "      <td>336</td>\n",
              "      <td>38.693952</td>\n",
              "    </tr>\n",
              "    <tr>\n",
              "      <th>4</th>\n",
              "      <td>0.24</td>\n",
              "      <td>2</td>\n",
              "      <td>1</td>\n",
              "      <td>6</td>\n",
              "      <td>62.3</td>\n",
              "      <td>57.0</td>\n",
              "      <td>336</td>\n",
              "      <td>38.830870</td>\n",
              "    </tr>\n",
              "  </tbody>\n",
              "</table>\n",
              "</div>\n",
              "      <button class=\"colab-df-convert\" onclick=\"convertToInteractive('df-56b42b5b-b8a5-4d34-b29a-e9d084204e5b')\"\n",
              "              title=\"Convert this dataframe to an interactive table.\"\n",
              "              style=\"display:none;\">\n",
              "        \n",
              "  <svg xmlns=\"http://www.w3.org/2000/svg\" height=\"24px\"viewBox=\"0 0 24 24\"\n",
              "       width=\"24px\">\n",
              "    <path d=\"M0 0h24v24H0V0z\" fill=\"none\"/>\n",
              "    <path d=\"M18.56 5.44l.94 2.06.94-2.06 2.06-.94-2.06-.94-.94-2.06-.94 2.06-2.06.94zm-11 1L8.5 8.5l.94-2.06 2.06-.94-2.06-.94L8.5 2.5l-.94 2.06-2.06.94zm10 10l.94 2.06.94-2.06 2.06-.94-2.06-.94-.94-2.06-.94 2.06-2.06.94z\"/><path d=\"M17.41 7.96l-1.37-1.37c-.4-.4-.92-.59-1.43-.59-.52 0-1.04.2-1.43.59L10.3 9.45l-7.72 7.72c-.78.78-.78 2.05 0 2.83L4 21.41c.39.39.9.59 1.41.59.51 0 1.02-.2 1.41-.59l7.78-7.78 2.81-2.81c.8-.78.8-2.07 0-2.86zM5.41 20L4 18.59l7.72-7.72 1.47 1.35L5.41 20z\"/>\n",
              "  </svg>\n",
              "      </button>\n",
              "      \n",
              "  <style>\n",
              "    .colab-df-container {\n",
              "      display:flex;\n",
              "      flex-wrap:wrap;\n",
              "      gap: 12px;\n",
              "    }\n",
              "\n",
              "    .colab-df-convert {\n",
              "      background-color: #E8F0FE;\n",
              "      border: none;\n",
              "      border-radius: 50%;\n",
              "      cursor: pointer;\n",
              "      display: none;\n",
              "      fill: #1967D2;\n",
              "      height: 32px;\n",
              "      padding: 0 0 0 0;\n",
              "      width: 32px;\n",
              "    }\n",
              "\n",
              "    .colab-df-convert:hover {\n",
              "      background-color: #E2EBFA;\n",
              "      box-shadow: 0px 1px 2px rgba(60, 64, 67, 0.3), 0px 1px 3px 1px rgba(60, 64, 67, 0.15);\n",
              "      fill: #174EA6;\n",
              "    }\n",
              "\n",
              "    [theme=dark] .colab-df-convert {\n",
              "      background-color: #3B4455;\n",
              "      fill: #D2E3FC;\n",
              "    }\n",
              "\n",
              "    [theme=dark] .colab-df-convert:hover {\n",
              "      background-color: #434B5C;\n",
              "      box-shadow: 0px 1px 3px 1px rgba(0, 0, 0, 0.15);\n",
              "      filter: drop-shadow(0px 1px 2px rgba(0, 0, 0, 0.3));\n",
              "      fill: #FFFFFF;\n",
              "    }\n",
              "  </style>\n",
              "\n",
              "      <script>\n",
              "        const buttonEl =\n",
              "          document.querySelector('#df-56b42b5b-b8a5-4d34-b29a-e9d084204e5b button.colab-df-convert');\n",
              "        buttonEl.style.display =\n",
              "          google.colab.kernel.accessAllowed ? 'block' : 'none';\n",
              "\n",
              "        async function convertToInteractive(key) {\n",
              "          const element = document.querySelector('#df-56b42b5b-b8a5-4d34-b29a-e9d084204e5b');\n",
              "          const dataTable =\n",
              "            await google.colab.kernel.invokeFunction('convertToInteractive',\n",
              "                                                     [key], {});\n",
              "          if (!dataTable) return;\n",
              "\n",
              "          const docLinkHtml = 'Like what you see? Visit the ' +\n",
              "            '<a target=\"_blank\" href=https://colab.research.google.com/notebooks/data_table.ipynb>data table notebook</a>'\n",
              "            + ' to learn more about interactive tables.';\n",
              "          element.innerHTML = '';\n",
              "          dataTable['output_type'] = 'display_data';\n",
              "          await google.colab.output.renderOutput(dataTable, element);\n",
              "          const docLink = document.createElement('div');\n",
              "          docLink.innerHTML = docLinkHtml;\n",
              "          element.appendChild(docLink);\n",
              "        }\n",
              "      </script>\n",
              "    </div>\n",
              "  </div>\n",
              "  "
            ]
          },
          "metadata": {},
          "execution_count": 489
        }
      ]
    },
    {
      "cell_type": "code",
      "source": [
        "corr_matrix = train_df.corr()\n",
        "corr_matrix['price'].sort_values(ascending= False)"
      ],
      "metadata": {
        "colab": {
          "base_uri": "https://localhost:8080/"
        },
        "id": "Sq_5m3_QgAH3",
        "outputId": "e0adba61-c5f3-44f2-a698-d5c6bf0a685a"
      },
      "execution_count": 490,
      "outputs": [
        {
          "output_type": "execute_result",
          "data": {
            "text/plain": [
              "price      1.000000\n",
              "volume     0.925726\n",
              "carat      0.923762\n",
              "table      0.136968\n",
              "depth     -0.013979\n",
              "cut       -0.069159\n",
              "clarity   -0.156986\n",
              "color     -0.176455\n",
              "Name: price, dtype: float64"
            ]
          },
          "metadata": {},
          "execution_count": 490
        }
      ]
    },
    {
      "cell_type": "markdown",
      "source": [
        "#Data split"
      ],
      "metadata": {
        "id": "mwfddyYe7hnW"
      }
    },
    {
      "cell_type": "code",
      "source": [
        "X = train_df.drop(['price'], axis=1)\n",
        "y= train_df['price']"
      ],
      "metadata": {
        "id": "8mt-cCRwfqJA"
      },
      "execution_count": 491,
      "outputs": []
    },
    {
      "cell_type": "code",
      "source": [
        "X_train, X_test, y_train, y_test = train_test_split(X ,y,test_size=0.2, random_state=42)"
      ],
      "metadata": {
        "id": "ENNm-7ghfqlo"
      },
      "execution_count": 492,
      "outputs": []
    },
    {
      "cell_type": "markdown",
      "source": [
        "##Train model"
      ],
      "metadata": {
        "id": "NUTEGXlCoI83"
      }
    },
    {
      "cell_type": "code",
      "execution_count": 494,
      "metadata": {
        "id": "4tJLhnJsMEut",
        "colab": {
          "base_uri": "https://localhost:8080/"
        },
        "outputId": "d8166f96-708f-41c8-a14a-e65c6019b9de"
      },
      "outputs": [
        {
          "output_type": "execute_result",
          "data": {
            "text/plain": [
              "LinearRegression()"
            ]
          },
          "metadata": {},
          "execution_count": 494
        }
      ],
      "source": [
        "#linear regression model\n",
        "train_df_lin=LinearRegression()\n",
        "train_df_lin.fit(X_train,y_train)"
      ]
    },
    {
      "cell_type": "code",
      "source": [
        "y_pred_lin = train_df_lin.predict(X_test)"
      ],
      "metadata": {
        "id": "i18R20Y0oLoB"
      },
      "execution_count": 495,
      "outputs": []
    },
    {
      "cell_type": "code",
      "source": [
        "lin_mse = mean_squared_error(y_pred_lin,y_test)\n",
        "lin_rmse = np.sqrt(lin_mse)\n",
        "lin_rmse"
      ],
      "metadata": {
        "id": "TGJo_7GHTF0t",
        "colab": {
          "base_uri": "https://localhost:8080/"
        },
        "outputId": "bdb31eb4-f10d-4189-e696-5d09ae40d80b"
      },
      "execution_count": 496,
      "outputs": [
        {
          "output_type": "execute_result",
          "data": {
            "text/plain": [
              "1219.036001442369"
            ]
          },
          "metadata": {},
          "execution_count": 496
        }
      ]
    },
    {
      "cell_type": "code",
      "source": [
        "#Decision Tree Regressor\n",
        "train_df_dt= DecisionTreeRegressor()\n",
        "train_df_dt.fit(X_train,y_train)"
      ],
      "metadata": {
        "id": "mHOWtuCgTGJK",
        "colab": {
          "base_uri": "https://localhost:8080/"
        },
        "outputId": "0130b368-d682-4e83-9f1a-b2be81144970"
      },
      "execution_count": 497,
      "outputs": [
        {
          "output_type": "execute_result",
          "data": {
            "text/plain": [
              "DecisionTreeRegressor()"
            ]
          },
          "metadata": {},
          "execution_count": 497
        }
      ]
    },
    {
      "cell_type": "code",
      "source": [
        "y_pred_dt=train_df_dt.predict(X_test)"
      ],
      "metadata": {
        "id": "L-AhDG9ptmuo"
      },
      "execution_count": 498,
      "outputs": []
    },
    {
      "cell_type": "code",
      "source": [
        "tree_mse = mean_squared_error(y_pred_dt,y_test)\n",
        "tree_rmse=np.sqrt(tree_mse)\n",
        "tree_rmse"
      ],
      "metadata": {
        "colab": {
          "base_uri": "https://localhost:8080/"
        },
        "id": "sY4YTdCItoXa",
        "outputId": "97c3a481-da2c-4e95-8587-65c91ebeb5f4"
      },
      "execution_count": 499,
      "outputs": [
        {
          "output_type": "execute_result",
          "data": {
            "text/plain": [
              "716.1480422957766"
            ]
          },
          "metadata": {},
          "execution_count": 499
        }
      ]
    },
    {
      "cell_type": "code",
      "source": [
        "#Random Forest Regresso\n",
        "train_df_Ran=RandomForestRegressor()\n",
        "train_df_Ran.fit(X_train,y_train)"
      ],
      "metadata": {
        "id": "ubOTyT3cTGeR",
        "colab": {
          "base_uri": "https://localhost:8080/"
        },
        "outputId": "9c1f4c0b-b9c3-46bf-83df-c9783f6ce193"
      },
      "execution_count": 500,
      "outputs": [
        {
          "output_type": "execute_result",
          "data": {
            "text/plain": [
              "RandomForestRegressor()"
            ]
          },
          "metadata": {},
          "execution_count": 500
        }
      ]
    },
    {
      "cell_type": "code",
      "source": [
        "y_pred_ra=train_df_Ran.predict(X_test)"
      ],
      "metadata": {
        "id": "9ePEC5RDwTl-"
      },
      "execution_count": 501,
      "outputs": []
    },
    {
      "cell_type": "code",
      "source": [
        "forest_mse=mean_squared_error(y_test,y_pred_ra)\n",
        "forest_rmse=np.sqrt(forest_mse)\n",
        "forest_rmse"
      ],
      "metadata": {
        "colab": {
          "base_uri": "https://localhost:8080/"
        },
        "id": "G7NcQHEOvnxR",
        "outputId": "374be6b2-78bf-445a-ffca-44d96e4df040"
      },
      "execution_count": 502,
      "outputs": [
        {
          "output_type": "execute_result",
          "data": {
            "text/plain": [
              "535.8289627294638"
            ]
          },
          "metadata": {},
          "execution_count": 502
        }
      ]
    },
    {
      "cell_type": "code",
      "source": [
        "#KNeighbors Regressor\n",
        "train_df_KN =KNeighborsRegressor(n_neighbors=5)\n",
        "train_df_KN.fit(X_train,y_train)"
      ],
      "metadata": {
        "id": "Jk_9ufXETGxK",
        "colab": {
          "base_uri": "https://localhost:8080/"
        },
        "outputId": "691559db-10bf-4336-c2e1-4054456bc8b7"
      },
      "execution_count": 503,
      "outputs": [
        {
          "output_type": "execute_result",
          "data": {
            "text/plain": [
              "KNeighborsRegressor()"
            ]
          },
          "metadata": {},
          "execution_count": 503
        }
      ]
    },
    {
      "cell_type": "code",
      "source": [
        "y_pred = train_df_KN.predict(X_test)"
      ],
      "metadata": {
        "id": "xXi64iQBwjUk"
      },
      "execution_count": 504,
      "outputs": []
    },
    {
      "cell_type": "code",
      "source": [
        "KN_mse = mean_squared_error(y_test,y_pred)\n",
        "KN_rmse =np.sqrt(KN_mse)\n",
        "KN_rmse"
      ],
      "metadata": {
        "colab": {
          "base_uri": "https://localhost:8080/"
        },
        "id": "y6w6F6VswtFb",
        "outputId": "6c078fee-8c77-44c1-8768-c214c88d0f80"
      },
      "execution_count": 505,
      "outputs": [
        {
          "output_type": "execute_result",
          "data": {
            "text/plain": [
              "774.9942359806952"
            ]
          },
          "metadata": {},
          "execution_count": 505
        }
      ]
    },
    {
      "cell_type": "code",
      "source": [
        "#Suport Vector  Regressor\n",
        "train_df_sv = SVR()\n",
        "train_df_sv.fit(X_train,y_train)"
      ],
      "metadata": {
        "id": "DfMiszNMTG_2",
        "colab": {
          "base_uri": "https://localhost:8080/"
        },
        "outputId": "92a9bfae-d7e3-4783-ebff-a173aa39abd6"
      },
      "execution_count": 506,
      "outputs": [
        {
          "output_type": "execute_result",
          "data": {
            "text/plain": [
              "SVR()"
            ]
          },
          "metadata": {},
          "execution_count": 506
        }
      ]
    },
    {
      "cell_type": "code",
      "source": [
        "y_pred = train_df_sv.predict(X_test)"
      ],
      "metadata": {
        "id": "n0uhNFfCTHOp"
      },
      "execution_count": 507,
      "outputs": []
    },
    {
      "cell_type": "code",
      "source": [
        "sv_mse = mean_squared_error(y_test,y_pred)\n",
        "sv_rmse = np.sqrt(sv_mse)\n",
        "sv_rmse"
      ],
      "metadata": {
        "id": "0FJDzyIIm_Xf",
        "colab": {
          "base_uri": "https://localhost:8080/"
        },
        "outputId": "6a0475c2-058c-47d8-9aa6-b441d2f141af"
      },
      "execution_count": 508,
      "outputs": [
        {
          "output_type": "execute_result",
          "data": {
            "text/plain": [
              "2329.2280990252784"
            ]
          },
          "metadata": {},
          "execution_count": 508
        }
      ]
    },
    {
      "cell_type": "code",
      "source": [
        "from lightgbm.sklearn import LGBMRegressor\n",
        "import lightgbm as lgb"
      ],
      "metadata": {
        "id": "qjj63_HuaYCw"
      },
      "execution_count": 509,
      "outputs": []
    },
    {
      "cell_type": "code",
      "source": [
        "#LGBMRegressor()\n",
        "model = lgb.LGBMRegressor()"
      ],
      "metadata": {
        "id": "5bMxVs5OaYva"
      },
      "execution_count": 510,
      "outputs": []
    },
    {
      "cell_type": "code",
      "source": [
        "model.fit(X_train,y_train)"
      ],
      "metadata": {
        "colab": {
          "base_uri": "https://localhost:8080/"
        },
        "id": "XCBlM_uwaZsK",
        "outputId": "24dfd356-a82a-4420-9cd1-ff47495df69a"
      },
      "execution_count": 511,
      "outputs": [
        {
          "output_type": "execute_result",
          "data": {
            "text/plain": [
              "LGBMRegressor()"
            ]
          },
          "metadata": {},
          "execution_count": 511
        }
      ]
    },
    {
      "cell_type": "code",
      "source": [
        "pred = model.predict(X_test)"
      ],
      "metadata": {
        "id": "5PjC2eLLaaF6"
      },
      "execution_count": 512,
      "outputs": []
    },
    {
      "cell_type": "code",
      "source": [
        "LG_mse = mean_squared_error(y_test,pred)\n",
        "LG_rmse = np.sqrt(LG_mse)\n",
        "LG_rmse"
      ],
      "metadata": {
        "colab": {
          "base_uri": "https://localhost:8080/"
        },
        "id": "0aZcV5GPaaWy",
        "outputId": "2a512115-aad1-4ba6-8e96-c805a0b234a0"
      },
      "execution_count": 513,
      "outputs": [
        {
          "output_type": "execute_result",
          "data": {
            "text/plain": [
              "535.4796564846274"
            ]
          },
          "metadata": {},
          "execution_count": 513
        }
      ]
    },
    {
      "cell_type": "code",
      "source": [
        "from xgboost.sklearn import XGBRegressor\n",
        "import xgboost as xgb"
      ],
      "metadata": {
        "id": "CpMlXI7WaaqJ"
      },
      "execution_count": 514,
      "outputs": []
    },
    {
      "cell_type": "code",
      "source": [
        "param = {'objective':'reg:squarederror', 'booster':'gbtree', 'learning_rate' : 0.5,\n",
        "         'reg_alpha': 10, 'reg_lambda': 10, 'random_state' : 1,\n",
        "         'n_jobs' : -1}\n",
        "xgb = XGBRegressor(**param)"
      ],
      "metadata": {
        "id": "7SW6IM6HAGG4"
      },
      "execution_count": 515,
      "outputs": []
    },
    {
      "cell_type": "code",
      "source": [
        "xgb.fit(X_train, y_train)"
      ],
      "metadata": {
        "colab": {
          "base_uri": "https://localhost:8080/"
        },
        "id": "2xy9dIOuAGc1",
        "outputId": "7e18b2c5-74ba-485f-d467-4613dd528c96"
      },
      "execution_count": 516,
      "outputs": [
        {
          "output_type": "execute_result",
          "data": {
            "text/plain": [
              "XGBRegressor(learning_rate=0.5, n_jobs=-1, objective='reg:squarederror',\n",
              "             random_state=1, reg_alpha=10, reg_lambda=10)"
            ]
          },
          "metadata": {},
          "execution_count": 516
        }
      ]
    },
    {
      "cell_type": "code",
      "source": [
        "xgb_pred = xgb.predict(X_test)"
      ],
      "metadata": {
        "id": "NrKKjX1aAGtV"
      },
      "execution_count": 517,
      "outputs": []
    },
    {
      "cell_type": "code",
      "source": [
        "xgb_mse = mean_squared_error(y_test,xgb_pred)\n",
        "xgb_rmse = np.sqrt(xgb_mse)\n",
        "xgb_rmse"
      ],
      "metadata": {
        "colab": {
          "base_uri": "https://localhost:8080/"
        },
        "id": "H7znNt-AAHHW",
        "outputId": "590b6867-a086-4727-fd95-9aa1940a543f"
      },
      "execution_count": 518,
      "outputs": [
        {
          "output_type": "execute_result",
          "data": {
            "text/plain": [
              "574.7848105791846"
            ]
          },
          "metadata": {},
          "execution_count": 518
        }
      ]
    },
    {
      "cell_type": "code",
      "source": [
        "param_grid = { \n",
        "    'model__n_estimators': [10,20, 30],\n",
        "    'model__max_features': ['auto', 'sqrt', 'log2'],\n",
        "    'model__max_depth' : [4,5,6,7,8]}\n",
        "grid_search = GridSearchCV(model,param_grid,cv = 10, scoring = 'neg_mean_squared_error',return_train_score = True)\n",
        "grid_search.fit(X_train,y_train)"
      ],
      "metadata": {
        "id": "S_eUbD_wTHdF",
        "colab": {
          "base_uri": "https://localhost:8080/"
        },
        "outputId": "0ee4b0d4-e3d0-42fd-80df-16b712bf3161"
      },
      "execution_count": 519,
      "outputs": [
        {
          "output_type": "execute_result",
          "data": {
            "text/plain": [
              "GridSearchCV(cv=10, estimator=LGBMRegressor(),\n",
              "             param_grid={'model__max_depth': [4, 5, 6, 7, 8],\n",
              "                         'model__max_features': ['auto', 'sqrt', 'log2'],\n",
              "                         'model__n_estimators': [10, 20, 30]},\n",
              "             return_train_score=True, scoring='neg_mean_squared_error')"
            ]
          },
          "metadata": {},
          "execution_count": 519
        }
      ]
    },
    {
      "cell_type": "code",
      "execution_count": 520,
      "metadata": {
        "id": "WJ_hm7bhMFCg",
        "colab": {
          "base_uri": "https://localhost:8080/"
        },
        "outputId": "7787d74c-8d72-4a22-93ce-f60ff925e216"
      },
      "outputs": [
        {
          "output_type": "execute_result",
          "data": {
            "text/plain": [
              "{'model__max_depth': 4,\n",
              " 'model__max_features': 'auto',\n",
              " 'model__n_estimators': 10}"
            ]
          },
          "metadata": {},
          "execution_count": 520
        }
      ],
      "source": [
        "grid_search.best_params_"
      ]
    },
    {
      "cell_type": "code",
      "source": [
        "cvres = grid_search.cv_results_\n",
        "for mean_score, params in zip(cvres[\"mean_test_score\"], cvres[\"params\"]):\n",
        "  print(np.sqrt(-mean_score), params)"
      ],
      "metadata": {
        "id": "JdiJ5yV_KEb2",
        "colab": {
          "base_uri": "https://localhost:8080/"
        },
        "outputId": "dd1d9867-5ee3-4ae8-d0e6-4322b90cd088"
      },
      "execution_count": 521,
      "outputs": [
        {
          "output_type": "stream",
          "name": "stdout",
          "text": [
            "554.413601066994 {'model__max_depth': 4, 'model__max_features': 'auto', 'model__n_estimators': 10}\n",
            "554.413601066994 {'model__max_depth': 4, 'model__max_features': 'auto', 'model__n_estimators': 20}\n",
            "554.413601066994 {'model__max_depth': 4, 'model__max_features': 'auto', 'model__n_estimators': 30}\n",
            "554.413601066994 {'model__max_depth': 4, 'model__max_features': 'sqrt', 'model__n_estimators': 10}\n",
            "554.413601066994 {'model__max_depth': 4, 'model__max_features': 'sqrt', 'model__n_estimators': 20}\n",
            "554.413601066994 {'model__max_depth': 4, 'model__max_features': 'sqrt', 'model__n_estimators': 30}\n",
            "554.413601066994 {'model__max_depth': 4, 'model__max_features': 'log2', 'model__n_estimators': 10}\n",
            "554.413601066994 {'model__max_depth': 4, 'model__max_features': 'log2', 'model__n_estimators': 20}\n",
            "554.413601066994 {'model__max_depth': 4, 'model__max_features': 'log2', 'model__n_estimators': 30}\n",
            "554.413601066994 {'model__max_depth': 5, 'model__max_features': 'auto', 'model__n_estimators': 10}\n",
            "554.413601066994 {'model__max_depth': 5, 'model__max_features': 'auto', 'model__n_estimators': 20}\n",
            "554.413601066994 {'model__max_depth': 5, 'model__max_features': 'auto', 'model__n_estimators': 30}\n",
            "554.413601066994 {'model__max_depth': 5, 'model__max_features': 'sqrt', 'model__n_estimators': 10}\n",
            "554.413601066994 {'model__max_depth': 5, 'model__max_features': 'sqrt', 'model__n_estimators': 20}\n",
            "554.413601066994 {'model__max_depth': 5, 'model__max_features': 'sqrt', 'model__n_estimators': 30}\n",
            "554.413601066994 {'model__max_depth': 5, 'model__max_features': 'log2', 'model__n_estimators': 10}\n",
            "554.413601066994 {'model__max_depth': 5, 'model__max_features': 'log2', 'model__n_estimators': 20}\n",
            "554.413601066994 {'model__max_depth': 5, 'model__max_features': 'log2', 'model__n_estimators': 30}\n",
            "554.413601066994 {'model__max_depth': 6, 'model__max_features': 'auto', 'model__n_estimators': 10}\n",
            "554.413601066994 {'model__max_depth': 6, 'model__max_features': 'auto', 'model__n_estimators': 20}\n",
            "554.413601066994 {'model__max_depth': 6, 'model__max_features': 'auto', 'model__n_estimators': 30}\n",
            "554.413601066994 {'model__max_depth': 6, 'model__max_features': 'sqrt', 'model__n_estimators': 10}\n",
            "554.413601066994 {'model__max_depth': 6, 'model__max_features': 'sqrt', 'model__n_estimators': 20}\n",
            "554.413601066994 {'model__max_depth': 6, 'model__max_features': 'sqrt', 'model__n_estimators': 30}\n",
            "554.413601066994 {'model__max_depth': 6, 'model__max_features': 'log2', 'model__n_estimators': 10}\n",
            "554.413601066994 {'model__max_depth': 6, 'model__max_features': 'log2', 'model__n_estimators': 20}\n",
            "554.413601066994 {'model__max_depth': 6, 'model__max_features': 'log2', 'model__n_estimators': 30}\n",
            "554.413601066994 {'model__max_depth': 7, 'model__max_features': 'auto', 'model__n_estimators': 10}\n",
            "554.413601066994 {'model__max_depth': 7, 'model__max_features': 'auto', 'model__n_estimators': 20}\n",
            "554.413601066994 {'model__max_depth': 7, 'model__max_features': 'auto', 'model__n_estimators': 30}\n",
            "554.413601066994 {'model__max_depth': 7, 'model__max_features': 'sqrt', 'model__n_estimators': 10}\n",
            "554.413601066994 {'model__max_depth': 7, 'model__max_features': 'sqrt', 'model__n_estimators': 20}\n",
            "554.413601066994 {'model__max_depth': 7, 'model__max_features': 'sqrt', 'model__n_estimators': 30}\n",
            "554.413601066994 {'model__max_depth': 7, 'model__max_features': 'log2', 'model__n_estimators': 10}\n",
            "554.413601066994 {'model__max_depth': 7, 'model__max_features': 'log2', 'model__n_estimators': 20}\n",
            "554.413601066994 {'model__max_depth': 7, 'model__max_features': 'log2', 'model__n_estimators': 30}\n",
            "554.413601066994 {'model__max_depth': 8, 'model__max_features': 'auto', 'model__n_estimators': 10}\n",
            "554.413601066994 {'model__max_depth': 8, 'model__max_features': 'auto', 'model__n_estimators': 20}\n",
            "554.413601066994 {'model__max_depth': 8, 'model__max_features': 'auto', 'model__n_estimators': 30}\n",
            "554.413601066994 {'model__max_depth': 8, 'model__max_features': 'sqrt', 'model__n_estimators': 10}\n",
            "554.413601066994 {'model__max_depth': 8, 'model__max_features': 'sqrt', 'model__n_estimators': 20}\n",
            "554.413601066994 {'model__max_depth': 8, 'model__max_features': 'sqrt', 'model__n_estimators': 30}\n",
            "554.413601066994 {'model__max_depth': 8, 'model__max_features': 'log2', 'model__n_estimators': 10}\n",
            "554.413601066994 {'model__max_depth': 8, 'model__max_features': 'log2', 'model__n_estimators': 20}\n",
            "554.413601066994 {'model__max_depth': 8, 'model__max_features': 'log2', 'model__n_estimators': 30}\n"
          ]
        }
      ]
    },
    {
      "cell_type": "code",
      "source": [],
      "metadata": {
        "id": "JEIXtfewzyk6"
      },
      "execution_count": 300,
      "outputs": []
    },
    {
      "cell_type": "code",
      "source": [
        "def display_scores(scores):\n",
        "  print(\"Scores:\", scores)\n",
        "  print(\"Mean:\", scores.mean())\n",
        "  print(\"Standard deviation:\", scores.std())"
      ],
      "metadata": {
        "id": "zHpXysFZIN6Z"
      },
      "execution_count": 522,
      "outputs": []
    },
    {
      "cell_type": "code",
      "source": [
        "scores = cross_val_score(grid_search, X_train, y_train,\n",
        "scoring=\"neg_mean_squared_error\", cv=10)\n",
        "model_rmse_scores = np.sqrt(-scores)"
      ],
      "metadata": {
        "id": "e3wn_GQqKCje"
      },
      "execution_count": null,
      "outputs": []
    },
    {
      "cell_type": "code",
      "source": [
        "display_scores(model_rmse_scores)"
      ],
      "metadata": {
        "colab": {
          "base_uri": "https://localhost:8080/"
        },
        "id": "3pftmeEpKC8V",
        "outputId": "ab0694c2-389d-42ce-82c5-f8067a7a338e"
      },
      "execution_count": 54,
      "outputs": [
        {
          "output_type": "stream",
          "name": "stdout",
          "text": [
            "Scores: [742.70901541 742.12868474 750.14924519 684.71008304 766.5247859\n",
            " 732.14393669 707.80794557 752.56160245 713.43503818 727.0776749 ]\n",
            "Mean: 731.9248012057917\n",
            "Standard deviation: 23.134069482219378\n"
          ]
        }
      ]
    },
    {
      "cell_type": "markdown",
      "source": [
        "# Evaluate the System on the Test Set"
      ],
      "metadata": {
        "id": "r8enla-RzJZY"
      }
    },
    {
      "cell_type": "code",
      "source": [
        "final_model = grid_search.best_estimator_\n",
        "final_predictions = final_model.predict(X_test)\n",
        "final_mse = mean_squared_error(y_test,final_predictions)\n",
        "final_rmse = np.sqrt(final_mse)\n",
        "final_rmse"
      ],
      "metadata": {
        "id": "UzjB6TTCKE77",
        "colab": {
          "base_uri": "https://localhost:8080/"
        },
        "outputId": "b2309fde-a9df-4ad7-9104-84346a45c8e5"
      },
      "execution_count": 60,
      "outputs": [
        {
          "output_type": "execute_result",
          "data": {
            "text/plain": [
              "602.3554349839433"
            ]
          },
          "metadata": {},
          "execution_count": 60
        }
      ]
    },
    {
      "cell_type": "code",
      "source": [
        "prediction=final_model.predict(test_df)"
      ],
      "metadata": {
        "id": "-a0LXllpKFJ2"
      },
      "execution_count": 61,
      "outputs": []
    },
    {
      "cell_type": "code",
      "source": [
        "prediction"
      ],
      "metadata": {
        "colab": {
          "base_uri": "https://localhost:8080/"
        },
        "id": "Z9sQMdFBgb4l",
        "outputId": "975acc2e-3485-4b53-fd1b-08959f7d1e0e"
      },
      "execution_count": 62,
      "outputs": [
        {
          "output_type": "execute_result",
          "data": {
            "text/plain": [
              "array([ 184.02017,  432.56348,  377.49225, ..., 2715.5723 , 2717.1572 ,\n",
              "       2484.7432 ], dtype=float32)"
            ]
          },
          "metadata": {},
          "execution_count": 62
        }
      ]
    },
    {
      "cell_type": "code",
      "source": [
        "da=pd.read_csv('/content/drive/MyDrive/test.csv')\n",
        "index_col=da[['Unnamed: 0']]"
      ],
      "metadata": {
        "id": "0b6qOB8V88Il"
      },
      "execution_count": 63,
      "outputs": []
    },
    {
      "cell_type": "code",
      "source": [
        "index_col['price'] = prediction"
      ],
      "metadata": {
        "id": "Zg669jIO88hq",
        "colab": {
          "base_uri": "https://localhost:8080/"
        },
        "outputId": "b48c35f5-98d2-4e53-aecf-28f97035e50b"
      },
      "execution_count": 64,
      "outputs": [
        {
          "output_type": "stream",
          "name": "stderr",
          "text": [
            "/usr/local/lib/python3.7/dist-packages/ipykernel_launcher.py:1: SettingWithCopyWarning: \n",
            "A value is trying to be set on a copy of a slice from a DataFrame.\n",
            "Try using .loc[row_indexer,col_indexer] = value instead\n",
            "\n",
            "See the caveats in the documentation: https://pandas.pydata.org/pandas-docs/stable/user_guide/indexing.html#returning-a-view-versus-a-copy\n",
            "  \"\"\"Entry point for launching an IPython kernel.\n"
          ]
        }
      ]
    },
    {
      "cell_type": "code",
      "source": [
        "index_col.to_csv('submission.csv', index=False)"
      ],
      "metadata": {
        "id": "D3mux92QKFVd"
      },
      "execution_count": 65,
      "outputs": []
    }
  ],
  "metadata": {
    "colab": {
      "provenance": [],
      "collapsed_sections": []
    },
    "kernelspec": {
      "display_name": "Python 3",
      "name": "python3"
    },
    "language_info": {
      "name": "python"
    }
  },
  "nbformat": 4,
  "nbformat_minor": 0
}